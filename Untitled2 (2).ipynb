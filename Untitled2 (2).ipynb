{
 "cells": [
  {
   "cell_type": "code",
   "execution_count": 1,
   "id": "b52eb53e",
   "metadata": {},
   "outputs": [
    {
     "name": "stdout",
     "output_type": "stream",
     "text": [
      "hello all\n"
     ]
    }
   ],
   "source": [
    "print('hello all')"
   ]
  },
  {
   "cell_type": "code",
   "execution_count": 2,
   "id": "c04eb504",
   "metadata": {},
   "outputs": [],
   "source": [
    "full_name='shravan'"
   ]
  },
  {
   "cell_type": "code",
   "execution_count": 3,
   "id": "fab6f04c",
   "metadata": {},
   "outputs": [
    {
     "name": "stdout",
     "output_type": "stream",
     "text": [
      "shravan\n"
     ]
    }
   ],
   "source": [
    "print(full_name)"
   ]
  },
  {
   "cell_type": "code",
   "execution_count": 4,
   "id": "79983aec",
   "metadata": {},
   "outputs": [],
   "source": [
    "name3='nazz'"
   ]
  },
  {
   "cell_type": "code",
   "execution_count": 5,
   "id": "0cebb05d",
   "metadata": {},
   "outputs": [
    {
     "name": "stdout",
     "output_type": "stream",
     "text": [
      "nazz\n"
     ]
    }
   ],
   "source": [
    "print(name3)"
   ]
  },
  {
   "cell_type": "code",
   "execution_count": 6,
   "id": "10e233d2",
   "metadata": {},
   "outputs": [],
   "source": [
    "nam='shravan'"
   ]
  },
  {
   "cell_type": "code",
   "execution_count": 7,
   "id": "d178125d",
   "metadata": {},
   "outputs": [
    {
     "ename": "NameError",
     "evalue": "name 'name' is not defined",
     "output_type": "error",
     "traceback": [
      "\u001b[1;31m---------------------------------------------------------------------------\u001b[0m",
      "\u001b[1;31mNameError\u001b[0m                                 Traceback (most recent call last)",
      "\u001b[1;32m<ipython-input-7-9ba126b17b03>\u001b[0m in \u001b[0;36m<module>\u001b[1;34m\u001b[0m\n\u001b[1;32m----> 1\u001b[1;33m \u001b[0mprint\u001b[0m\u001b[1;33m(\u001b[0m\u001b[0mname\u001b[0m\u001b[1;33m)\u001b[0m\u001b[1;33m\u001b[0m\u001b[1;33m\u001b[0m\u001b[0m\n\u001b[0m",
      "\u001b[1;31mNameError\u001b[0m: name 'name' is not defined"
     ]
    }
   ],
   "source": [
    "print(name)"
   ]
  },
  {
   "cell_type": "code",
   "execution_count": 8,
   "id": "87754be4",
   "metadata": {},
   "outputs": [
    {
     "name": "stdout",
     "output_type": "stream",
     "text": [
      "shravan\n"
     ]
    }
   ],
   "source": [
    "print(nam)"
   ]
  },
  {
   "cell_type": "code",
   "execution_count": 9,
   "id": "ddb32527",
   "metadata": {},
   "outputs": [
    {
     "name": "stdout",
     "output_type": "stream",
     "text": [
      "Shravan\n"
     ]
    }
   ],
   "source": [
    "print(nam.title())"
   ]
  },
  {
   "cell_type": "code",
   "execution_count": 10,
   "id": "fa3b3e3a",
   "metadata": {},
   "outputs": [
    {
     "name": "stdout",
     "output_type": "stream",
     "text": [
      "SHRAVAN\n"
     ]
    }
   ],
   "source": [
    "print(nam.upper())"
   ]
  },
  {
   "cell_type": "code",
   "execution_count": 11,
   "id": "a6705725",
   "metadata": {},
   "outputs": [
    {
     "ename": "NameError",
     "evalue": "name 'pritn' is not defined",
     "output_type": "error",
     "traceback": [
      "\u001b[1;31m---------------------------------------------------------------------------\u001b[0m",
      "\u001b[1;31mNameError\u001b[0m                                 Traceback (most recent call last)",
      "\u001b[1;32m<ipython-input-11-88af9ce8b383>\u001b[0m in \u001b[0;36m<module>\u001b[1;34m\u001b[0m\n\u001b[1;32m----> 1\u001b[1;33m \u001b[0mpritn\u001b[0m\u001b[1;33m(\u001b[0m\u001b[0mnam\u001b[0m\u001b[1;33m.\u001b[0m\u001b[0mlower\u001b[0m\u001b[1;33m(\u001b[0m\u001b[1;33m)\u001b[0m\u001b[1;33m)\u001b[0m\u001b[1;33m\u001b[0m\u001b[1;33m\u001b[0m\u001b[0m\n\u001b[0m",
      "\u001b[1;31mNameError\u001b[0m: name 'pritn' is not defined"
     ]
    }
   ],
   "source": [
    "pritn(nam.lower())"
   ]
  },
  {
   "cell_type": "code",
   "execution_count": 12,
   "id": "aadc9221",
   "metadata": {},
   "outputs": [
    {
     "name": "stdout",
     "output_type": "stream",
     "text": [
      "shravan\n"
     ]
    }
   ],
   "source": [
    "print(nam.lower(\n",
    "))"
   ]
  },
  {
   "cell_type": "code",
   "execution_count": null,
   "id": "6edb6748",
   "metadata": {},
   "outputs": [],
   "source": []
  }
 ],
 "metadata": {
  "kernelspec": {
   "display_name": "Python 3",
   "language": "python",
   "name": "python3"
  },
  "language_info": {
   "codemirror_mode": {
    "name": "ipython",
    "version": 3
   },
   "file_extension": ".py",
   "mimetype": "text/x-python",
   "name": "python",
   "nbconvert_exporter": "python",
   "pygments_lexer": "ipython3",
   "version": "3.8.8"
  }
 },
 "nbformat": 4,
 "nbformat_minor": 5
}
